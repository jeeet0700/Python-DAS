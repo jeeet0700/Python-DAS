{
 "cells": [
  {
   "cell_type": "markdown",
   "id": "e5114183",
   "metadata": {},
   "source": [
    "# Sum of natural number"
   ]
  },
  {
   "cell_type": "code",
   "execution_count": 9,
   "id": "e0ea5fbe",
   "metadata": {},
   "outputs": [],
   "source": [
    "#1\n",
    "def sum_natural(x):\n",
    "    a=0\n",
    "    for i in range(x+1):\n",
    "        a=i+a\n",
    "    return a"
   ]
  },
  {
   "cell_type": "code",
   "execution_count": 11,
   "id": "a540b5cb",
   "metadata": {},
   "outputs": [
    {
     "name": "stdout",
     "output_type": "stream",
     "text": [
      "993 ns ± 198 ns per loop (mean ± std. dev. of 7 runs, 1000000 loops each)\n"
     ]
    }
   ],
   "source": [
    "%%timeit\n",
    "sum_natural(3)"
   ]
  },
  {
   "cell_type": "code",
   "execution_count": 4,
   "id": "b3fc1f5c",
   "metadata": {},
   "outputs": [
    {
     "data": {
      "text/plain": [
       "15"
      ]
     },
     "execution_count": 4,
     "metadata": {},
     "output_type": "execute_result"
    }
   ],
   "source": [
    "sum_natural(5)"
   ]
  },
  {
   "cell_type": "code",
   "execution_count": 12,
   "id": "f3f8015d",
   "metadata": {},
   "outputs": [],
   "source": [
    "#2\n",
    "def sum_natural(x):\n",
    "    return x*((x+1)/2)"
   ]
  },
  {
   "cell_type": "code",
   "execution_count": 13,
   "id": "658b6919",
   "metadata": {},
   "outputs": [
    {
     "name": "stdout",
     "output_type": "stream",
     "text": [
      "323 ns ± 25.4 ns per loop (mean ± std. dev. of 7 runs, 1000000 loops each)\n"
     ]
    }
   ],
   "source": [
    "%%timeit\n",
    "sum_natural(3)"
   ]
  },
  {
   "cell_type": "markdown",
   "id": "889906ae",
   "metadata": {},
   "source": [
    "# sum of n natural no."
   ]
  },
  {
   "cell_type": "code",
   "execution_count": 11,
   "id": "d432ed7d",
   "metadata": {},
   "outputs": [],
   "source": [
    "def sum_of_n_natural(n):\n",
    "    print(n*((n+1)/2))"
   ]
  },
  {
   "cell_type": "code",
   "execution_count": 12,
   "id": "23b5cdee",
   "metadata": {},
   "outputs": [
    {
     "name": "stdout",
     "output_type": "stream",
     "text": [
      "55.0\n"
     ]
    }
   ],
   "source": [
    "sum_of_n_natural(10)"
   ]
  },
  {
   "cell_type": "markdown",
   "id": "289eb81f",
   "metadata": {},
   "source": [
    "# count digit"
   ]
  },
  {
   "cell_type": "code",
   "execution_count": 15,
   "id": "2054c84f",
   "metadata": {},
   "outputs": [],
   "source": [
    "def count_digit(x):\n",
    "    counter=0\n",
    "    while x>0:\n",
    "        x=x//10\n",
    "        counter+=1\n",
    "    return counter"
   ]
  },
  {
   "cell_type": "code",
   "execution_count": 16,
   "id": "34bb5454",
   "metadata": {},
   "outputs": [
    {
     "data": {
      "text/plain": [
       "5"
      ]
     },
     "execution_count": 16,
     "metadata": {},
     "output_type": "execute_result"
    }
   ],
   "source": [
    "count_digit(12345)"
   ]
  },
  {
   "cell_type": "code",
   "execution_count": 17,
   "id": "864bc4da",
   "metadata": {},
   "outputs": [
    {
     "data": {
      "text/plain": [
       "6"
      ]
     },
     "execution_count": 17,
     "metadata": {},
     "output_type": "execute_result"
    }
   ],
   "source": [
    "count_digit(123450)"
   ]
  },
  {
   "cell_type": "code",
   "execution_count": 18,
   "id": "1421dbaf",
   "metadata": {},
   "outputs": [
    {
     "data": {
      "text/plain": [
       "7"
      ]
     },
     "execution_count": 18,
     "metadata": {},
     "output_type": "execute_result"
    }
   ],
   "source": [
    "count_digit(1234500)"
   ]
  },
  {
   "cell_type": "markdown",
   "id": "a575fc6e",
   "metadata": {},
   "source": [
    "# Palindrom"
   ]
  },
  {
   "cell_type": "code",
   "execution_count": 20,
   "id": "4fdceb53",
   "metadata": {},
   "outputs": [],
   "source": [
    "def check_pal(x):\n",
    "    rev=0\n",
    "    temp=x\n",
    "    while temp!=0:\n",
    "        a=temp%10\n",
    "        rev=rev*10+a\n",
    "        temp=temp//10\n",
    "    return rev==x"
   ]
  },
  {
   "cell_type": "code",
   "execution_count": 21,
   "id": "10cd33e5",
   "metadata": {},
   "outputs": [
    {
     "data": {
      "text/plain": [
       "True"
      ]
     },
     "execution_count": 21,
     "metadata": {},
     "output_type": "execute_result"
    }
   ],
   "source": [
    "check_pal(34543)"
   ]
  },
  {
   "cell_type": "code",
   "execution_count": 22,
   "id": "e4ad7044",
   "metadata": {},
   "outputs": [
    {
     "data": {
      "text/plain": [
       "True"
      ]
     },
     "execution_count": 22,
     "metadata": {},
     "output_type": "execute_result"
    }
   ],
   "source": [
    "check_pal(101)"
   ]
  },
  {
   "cell_type": "code",
   "execution_count": 23,
   "id": "10f2969c",
   "metadata": {},
   "outputs": [
    {
     "data": {
      "text/plain": [
       "False"
      ]
     },
     "execution_count": 23,
     "metadata": {},
     "output_type": "execute_result"
    }
   ],
   "source": [
    "check_pal(100)"
   ]
  },
  {
   "cell_type": "code",
   "execution_count": 24,
   "id": "aa1911f2",
   "metadata": {},
   "outputs": [],
   "source": [
    "def check_pal(x):\n",
    "    temp=x\n",
    "    rev=0\n",
    "    while temp!=0:\n",
    "        a=temp%10\n",
    "        rev=(10*rev)+a\n",
    "        print(rev)\n",
    "        temp=temp//10\n",
    "    return rev==x"
   ]
  },
  {
   "cell_type": "code",
   "execution_count": 25,
   "id": "32f256ca",
   "metadata": {},
   "outputs": [
    {
     "name": "stdout",
     "output_type": "stream",
     "text": [
      "1\n",
      "10\n",
      "101\n"
     ]
    },
    {
     "data": {
      "text/plain": [
       "True"
      ]
     },
     "execution_count": 25,
     "metadata": {},
     "output_type": "execute_result"
    }
   ],
   "source": [
    "check_pal(101)"
   ]
  },
  {
   "cell_type": "markdown",
   "id": "8c5aca14",
   "metadata": {},
   "source": [
    "# Factorial of no."
   ]
  },
  {
   "cell_type": "code",
   "execution_count": 41,
   "id": "c30d420e",
   "metadata": {},
   "outputs": [],
   "source": [
    "def fact(x):\n",
    "    a=1\n",
    "    while x>0:\n",
    "        print('a:{} x:{}'.format(a,x))\n",
    "        a=a*x\n",
    "        x=x-1\n",
    "    return a"
   ]
  },
  {
   "cell_type": "code",
   "execution_count": 42,
   "id": "fc1884ff",
   "metadata": {},
   "outputs": [
    {
     "name": "stdout",
     "output_type": "stream",
     "text": [
      "a:1 x:5\n",
      "a:5 x:4\n",
      "a:20 x:3\n",
      "a:60 x:2\n",
      "a:120 x:1\n"
     ]
    },
    {
     "data": {
      "text/plain": [
       "120"
      ]
     },
     "execution_count": 42,
     "metadata": {},
     "output_type": "execute_result"
    }
   ],
   "source": [
    "fact(5)"
   ]
  },
  {
   "cell_type": "code",
   "execution_count": 43,
   "id": "10d89db3",
   "metadata": {},
   "outputs": [],
   "source": [
    "def fact(x):\n",
    "    a=1\n",
    "    for i in range(1,x+1):\n",
    "        a=a*i\n",
    "    return a"
   ]
  },
  {
   "cell_type": "code",
   "execution_count": 44,
   "id": "5b0b4bec",
   "metadata": {},
   "outputs": [
    {
     "data": {
      "text/plain": [
       "24"
      ]
     },
     "execution_count": 44,
     "metadata": {},
     "output_type": "execute_result"
    }
   ],
   "source": [
    "fact(4)"
   ]
  },
  {
   "cell_type": "code",
   "execution_count": 47,
   "id": "53069c45",
   "metadata": {},
   "outputs": [],
   "source": [
    "def fact(x):\n",
    "    if x==0:\n",
    "        return (1)\n",
    "    print(x)\n",
    "    return (x*fact(x-1))"
   ]
  },
  {
   "cell_type": "code",
   "execution_count": 48,
   "id": "9038ed95",
   "metadata": {},
   "outputs": [
    {
     "name": "stdout",
     "output_type": "stream",
     "text": [
      "4\n",
      "3\n",
      "2\n",
      "1\n"
     ]
    },
    {
     "data": {
      "text/plain": [
       "24"
      ]
     },
     "execution_count": 48,
     "metadata": {},
     "output_type": "execute_result"
    }
   ],
   "source": [
    "fact(4)"
   ]
  },
  {
   "cell_type": "code",
   "execution_count": null,
   "id": "057d359e",
   "metadata": {},
   "outputs": [],
   "source": []
  }
 ],
 "metadata": {
  "kernelspec": {
   "display_name": "Python 3 (ipykernel)",
   "language": "python",
   "name": "python3"
  },
  "language_info": {
   "codemirror_mode": {
    "name": "ipython",
    "version": 3
   },
   "file_extension": ".py",
   "mimetype": "text/x-python",
   "name": "python",
   "nbconvert_exporter": "python",
   "pygments_lexer": "ipython3",
   "version": "3.11.5"
  }
 },
 "nbformat": 4,
 "nbformat_minor": 5
}
